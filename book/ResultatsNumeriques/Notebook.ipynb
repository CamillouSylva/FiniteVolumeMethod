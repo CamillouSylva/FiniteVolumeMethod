{
 "cells": [
  {
   "cell_type": "markdown",
   "metadata": {},
   "source": [
    "# Résultats numériques"
   ]
  },
  {
   "cell_type": "code",
   "execution_count": 2,
   "metadata": {},
   "outputs": [],
   "source": [
    "import numpy as np\n",
    "from cmath import sqrt as complex_sqrt"
   ]
  },
  {
   "cell_type": "code",
   "execution_count": 10,
   "metadata": {},
   "outputs": [
    {
     "name": "stdout",
     "output_type": "stream",
     "text": [
      "some code\n"
     ]
    }
   ],
   "source": [
    "def numerical_flux(solver_type: str, rl: float, ml: float, El: float, rr: float, mr: float, Er: float,\n",
    "                   gamma: float = 1.4) -> np.ndarray:\n",
    "    \"\"\"\n",
    "    :param solver_type: Solver type (Rusanov, HLL or HLLC)\n",
    "    :param rl:\n",
    "    :param ml:\n",
    "    :param El:\n",
    "    :param rr:\n",
    "    :param mr:\n",
    "    :param Er:\n",
    "    :param gamma:\n",
    "    :return:\n",
    "    \"\"\"\n",
    "    Ur = np.array([rr, mr, Er]).reshape(3, 1)\n",
    "    Ul = np.array([rl, ml, El]).reshape(3, 1)\n",
    "\n",
    "    ul = ml / rl\n",
    "    pl = (gamma - 1) * (El - 0.5 * (ml ** 2) / rl)\n",
    "    al = complex_sqrt((gamma * pl / rl))\n",
    "\n",
    "    pr = (gamma - 1) * (Er - 0.5 * (mr ** 2) / rr)\n",
    "    ur = mr / rr\n",
    "    ar = complex_sqrt(gamma * pr / rr)\n",
    "\n",
    "    Fi = np.zeros((3, 1))  # .reshape(3, 1)  # np.zeros(3)\n",
    "    Fl = np.zeros((3, 1))  # .reshape(3, 1)  # np.zeros(3)\n",
    "    Fl[0] = ml\n",
    "    Fl[1] = (ml ** 2) / rl + pl\n",
    "    Fl[2] = (El + pl) * (ml / rl)\n",
    "\n",
    "    Fr = np.zeros((3, 1))  # .reshape(3, 1)\n",
    "\n",
    "    Fr[0] = mr\n",
    "    Fr[1] = (mr ** 2) / rr + pr\n",
    "    Fr[2] = (Er + pr) * (mr / rr)\n",
    "    if solver_type == \"Rusanov\":  # flux numerique Rusanov ; Sl et Sr sont des vitesses d’onde\n",
    "        Sl = (abs(ul) + al).real  # % vitesse minimale\n",
    "\n",
    "        Sr = (abs(ur) + ar).real  # vitesse maximale\n",
    "        #   print(Sr, Sl)\n",
    "\n",
    "        Sp = max(Sl, Sr)\n",
    "\n",
    "        Fi[0] = 0.5 * (Fl[0] + Fr[0] - Sp * (rr - rl))\n",
    "        Fi[1] = 0.5 * (Fl[1] + Fr[1] - Sp * (mr - ml))\n",
    "        Fi[2] = 0.5 * (Fl[2] + Fr[2] - Sp * (Er - El))\n",
    "\n",
    "    if solver_type == \"HLL\":  # flux numerique HLL (Harten-Lax-Van Leer)\n",
    "\n",
    "        Sl = (ul - al).real  # vitesse minimale\n",
    "\n",
    "        Sr = (ur + ar).real  # vitesse maximale\n",
    "        #  print(Sl, Sr)\n",
    "        if Sl >= 0:\n",
    "            Fi[0] = Fl[0]\n",
    "            Fi[1] = Fl[1]\n",
    "            Fi[2] = Fl[2]\n",
    "\n",
    "        elif Sl < 0 < Sr:  # Sl < 0 and 0 < Sr:\n",
    "            Fi[0] = (Sr * Fl[0] - Sl * Fr[0] + Sl * Sr * (Ur[0] - Ul[0])) / (Sr - Sl)\n",
    "            Fi[1] = (Sr * Fl[1] - Sl * Fr[1] + Sl * Sr * (Ur[1] - Ul[1])) / (Sr - Sl)\n",
    "            Fi[2] = (Sr * Fl[2] - Sl * Fr[2] + Sl * Sr * (Ur[2] - Ul[2])) / (Sr - Sl)\n",
    "\n",
    "        else:  # % (0 >= Sr)\n",
    "            Fi[0] = Fr[0]\n",
    "            Fi[1] = Fr[1]\n",
    "            Fi[2] = Fr[2]\n",
    "\n",
    "    if solver_type == \"HLLC\":  # flux numerique HLLC\n",
    "\n",
    "        # Sl = (ul - al).real  # vitesse minimale\n",
    "\n",
    "        # Sr = (ur + ar).real  # vitesse maximale\n",
    "\n",
    "        Sl = min((ul - al).real, (ur - ar).real)\n",
    "        Sr = max((ul + al).real, (ur + ar).real)\n",
    "        #  print(\"pr\",rl * (Sl - ul))\n",
    "        Se = (pr - pl + rl * ul * (Sl - ul) - rr * ur * (Sr - ur)) / (rl * (Sl - ul) - rr * (Sr - ur))\n",
    "        print((Sl - Se))\n",
    "        Uel = (rl * ((Sl - ul) / (Sl - Se)) * np.array([1, Se, El / rl + (Se - ul) * (Se + pl / (rl * (Sl - ul)))],\n",
    "                                                       dtype=float))\n",
    "        # print(\"Uel\", Uel)\n",
    "        Uer = rr * ((Sr - ur) / (Sr - Se)) * np.array([1, Se, Er / rr + (Se - ur) * (Se + pr / (rr * (Sr - ur)))],\n",
    "                                                      dtype=float)\n",
    "\n",
    "        if Sl >= 0:\n",
    "            Fi[0] = Fl[0]\n",
    "            Fi[1] = Fl[1]\n",
    "            Fi[2] = Fl[2]\n",
    "\n",
    "        elif Sl <= 0 and 0 <= Se:\n",
    "            Fi[0] = Fl[0] + Sl * (Uel[0] - Ul[0])\n",
    "            Fi[1] = Fl[1] + Sl * (Uel[1] - Ul[1])\n",
    "            Fi[2] = Fl[2] + Sl * (Uel[2] - Ul[2])\n",
    "\n",
    "        elif Se <= 0 and 0 <= Sr:\n",
    "            Fi[0] = Fr[0] + Sr * (Uer[0] - Ur[0])\n",
    "            Fi[1] = Fr[1] + Sr * (Uer[1] - Ur[1])\n",
    "            Fi[2] = Fr[2] + Sr * (Uer[2] - Ur[2])\n",
    "\n",
    "        else:  # (Sr <= 0)\n",
    "            Fi[0] = Fr[0]\n",
    "            Fi[1] = Fr[1]\n",
    "            Fi[2] = Fr[2]\n",
    "    # print(\"Fi\", Fi)\n",
    "    return Fi.reshape(3, 1)\n",
    "print(\"some code\")"
   ]
  },
  {
   "cell_type": "markdown",
   "metadata": {},
   "source": []
  },
  {
   "cell_type": "code",
   "execution_count": 5,
   "metadata": {},
   "outputs": [
    {
     "name": "stdout",
     "output_type": "stream",
     "text": [
      "-0.7473684210526316\n",
      "fluxnum() [[0.87887324]\n",
      " [0.86422535]\n",
      " [0.02682876]]\n",
      "flux [[ 0.75  ]\n",
      " [ 1.02  ]\n",
      " [-0.2325]]\n"
     ]
    }
   ],
   "source": [
    "    print(\"fluxnum()\", numerical_flux(solver_type=\"HLLC\", rl=1., ml=1., El=0.1, rr=1., mr=0.5, Er=1.))\n",
    "\n",
    "    flux = numerical_flux(solver_type=\"Rusanov\", rl=1., ml=1., El=0.1, rr=1., mr=0.5, Er=1.)\n",
    "    print(\"flux\", flux)"
   ]
  },
  {
   "cell_type": "code",
   "execution_count": null,
   "metadata": {},
   "outputs": [],
   "source": []
  }
 ],
 "metadata": {
  "interpreter": {
   "hash": "b9e668582b0b02603116cc9f5693f95ccbf6eacc79966be10d8ab2e05a37459f"
  },
  "kernelspec": {
   "display_name": "Python 3.7.9 ('condenv')",
   "language": "python",
   "name": "python3"
  },
  "language_info": {
   "codemirror_mode": {
    "name": "ipython",
    "version": 3
   },
   "file_extension": ".py",
   "mimetype": "text/x-python",
   "name": "python",
   "nbconvert_exporter": "python",
   "pygments_lexer": "ipython3",
   "version": "3.7.9"
  },
  "orig_nbformat": 4
 },
 "nbformat": 4,
 "nbformat_minor": 2
}
